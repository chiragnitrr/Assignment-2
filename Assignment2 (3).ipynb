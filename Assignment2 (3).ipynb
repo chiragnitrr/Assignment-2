{
 "cells": [
  {
   "cell_type": "code",
   "execution_count": null,
   "id": "bbdef031-9de7-4b46-abc1-c42986efc712",
   "metadata": {},
   "outputs": [],
   "source": [
    "Q1. How do you comment code in Python? What are the different types of comments?\n",
    "\n",
    "Answer : Comment are the part of code that are ignored by the interpreter during the execution \n",
    "         of code. for comment in python we put hagtag sign(#) in the begining of the statement.\n",
    "         there are three types of comments in python :\n",
    "         \n",
    "         (i) single line comment : In this case we simply put hastag(#) sign in the begining \n",
    "            of the statement. \n",
    "            Ex. : # My name is chirag prajapati\n",
    "             \n",
    "         (ii) Multiline comment : Python does not provide any special feature for multiline comment\n",
    "             like c++ but for multiline comment we simply put # sign in the starting of every statement.\n",
    "             Ex. : # Pwskill \n",
    "                   # data science \n",
    "             \n",
    "         (iii) Docstring comment : String inside triple quotes are called Docstring comment.\n",
    "             Ex. : \"\"\"Data science master class with pwskills batch\n",
    "                      impact 2.0\"\"\""
   ]
  },
  {
   "cell_type": "code",
   "execution_count": null,
   "id": "617429a8-9514-40e9-aee1-0fe82fbc212f",
   "metadata": {},
   "outputs": [],
   "source": [
    "Q2. What are variables in Python? How do you declare and assign values to variables?\n",
    "\n",
    "Answer : Variables are like container that store data of different - different types like \n",
    "         integer , floating point , string , boolean , list , tuple , set. once we assign \n",
    "         the data then we refer these data with the help of the variable.\n",
    "         \n",
    "         syntax for declare and assign value to variable: \n",
    "         variable_name = data"
   ]
  },
  {
   "cell_type": "code",
   "execution_count": null,
   "id": "b6b18632-0fcd-467e-96e8-45284be7b824",
   "metadata": {},
   "outputs": [],
   "source": [
    "Q3. How do you convert one data type to another in Python?\n",
    "\n",
    "Answer : For convert data from one type to another we perform type casting operation that\n",
    "         converts data from one type to another type.\n",
    "         ex : a = 4\n",
    "         here a is a integer if we check it type with the help of type fuction it gives int.\n",
    "              b = str(a)\n",
    "         here if we check the type of b it gives str means string .\n",
    "         if we print the value of a and b  it gives 4 and '4' repectively one is integer and other\n",
    "         is string.\n",
    "            "
   ]
  },
  {
   "cell_type": "code",
   "execution_count": null,
   "id": "814e96dc-d5f3-499b-b9b2-9119d2b09d34",
   "metadata": {},
   "outputs": [],
   "source": [
    "Q4. How do you write and execute a Python script from the command line?\n",
    "\n",
    "Answer : First write code in any note pad or ide and save this file with .py extension now open command line \n",
    "         first enter the word python and then write loacation of file and file name.\n",
    "    \n",
    "    Ex : let we creat a file that contains :\n",
    "         print(\"hello word from command line\")\n",
    "         and name of this file is test.py and its location is C:/temp/test.py\n",
    "        \n",
    "        Now we open commad line and give following instructions :\n",
    "            \n",
    "            >>python C:/temp/test.py\n",
    "            hello word from command line"
   ]
  },
  {
   "cell_type": "code",
   "execution_count": 8,
   "id": "ed1c9227-567b-4add-8cf4-a1525103c524",
   "metadata": {},
   "outputs": [
    {
     "data": {
      "text/plain": [
       "[2, 3]"
      ]
     },
     "execution_count": 8,
     "metadata": {},
     "output_type": "execute_result"
    }
   ],
   "source": [
    "# Q5. Given a list my_list = [1, 2, 3, 4, 5], write the code to slice the list and obtain the sub-list [2, 3].\n",
    "\n",
    "#Answer:\n",
    "\n",
    "my_list =[1,2,3,4,5]\n",
    "my_list[1:3]"
   ]
  },
  {
   "cell_type": "code",
   "execution_count": null,
   "id": "9ae14741-7b57-416b-81d7-7d6856c52c95",
   "metadata": {},
   "outputs": [],
   "source": [
    "Q6. What is a complex number in mathematics, and how is it represented in Python?\n",
    "\n",
    "Answer : Number which contains both real and imaginary part is called complex number in mathematics.\n",
    "         We represent complex number in python like this (4 + 6j) here 4 represent real part of number \n",
    "         and 6 represent complex part of number , j is represent complex part of number and it is written\n",
    "         with complex part of number."
   ]
  },
  {
   "cell_type": "code",
   "execution_count": null,
   "id": "e6e9fb3a-3ded-43a4-9354-48a9f377ffd3",
   "metadata": {},
   "outputs": [],
   "source": [
    "Q7. What is the correct way to declare a variable named age and assign the value 25 to it?\n",
    "\n",
    "Answer : The correct way to declare a variable named age and assign the value 25 is \n",
    "        age = 25"
   ]
  },
  {
   "cell_type": "code",
   "execution_count": null,
   "id": "325d0185-4183-438f-bc4b-d281ef3f2c3c",
   "metadata": {},
   "outputs": [],
   "source": [
    "Q8. Declare a variable named price and assign the value 9.99 to it. What data type does this variable \n",
    "belong to ?\n",
    "\n",
    "Answer : price = 9.99\n",
    "         the price belong to float data type because we assign it 9.99 which is floating point number.\n",
    "         we can also check the type of price with the help of type fuction which gives the type of variable.\n",
    "        \n",
    "         type(price) \n",
    "         this gives float."
   ]
  },
  {
   "cell_type": "code",
   "execution_count": 13,
   "id": "6e6262f9-970d-4051-95a8-832e131201b9",
   "metadata": {},
   "outputs": [
    {
     "name": "stdout",
     "output_type": "stream",
     "text": [
      "Chirag Prajapati\n"
     ]
    }
   ],
   "source": [
    "# Q9. Create a variable named name and assign your full name to it as a string. How would you print the \n",
    "#  value of this variable ?\n",
    "\n",
    "#Anser :\n",
    "name = 'Chirag Prajapati'\n",
    "#for print the value of variable we use print function \n",
    "print(name)"
   ]
  },
  {
   "cell_type": "code",
   "execution_count": 17,
   "id": "630043d5-7b16-46e6-bb67-c1dc7c72e4b8",
   "metadata": {},
   "outputs": [
    {
     "data": {
      "text/plain": [
       "'World'"
      ]
     },
     "execution_count": 17,
     "metadata": {},
     "output_type": "execute_result"
    }
   ],
   "source": [
    "# Q10. Given the string \"Hello, World!\", extract the substring \"World\".\n",
    "\n",
    "#Answer : \n",
    "s = \"Hello, World!\"\n",
    "s[7:12]"
   ]
  },
  {
   "cell_type": "code",
   "execution_count": 18,
   "id": "89e9383a-8b7e-4b88-99a1-dea306147fd4",
   "metadata": {},
   "outputs": [],
   "source": [
    "# Q11. Create a variable named \"is_student\" and assign it a boolean value indicating whether you are \n",
    "# currently a student or not.\n",
    "\n",
    "#Answer : \n",
    "is_student = True"
   ]
  },
  {
   "cell_type": "code",
   "execution_count": null,
   "id": "9a7d0933-0409-407d-9260-77e635686c1f",
   "metadata": {},
   "outputs": [],
   "source": []
  }
 ],
 "metadata": {
  "kernelspec": {
   "display_name": "Python 3 (ipykernel)",
   "language": "python",
   "name": "python3"
  },
  "language_info": {
   "codemirror_mode": {
    "name": "ipython",
    "version": 3
   },
   "file_extension": ".py",
   "mimetype": "text/x-python",
   "name": "python",
   "nbconvert_exporter": "python",
   "pygments_lexer": "ipython3",
   "version": "3.10.8"
  }
 },
 "nbformat": 4,
 "nbformat_minor": 5
}
